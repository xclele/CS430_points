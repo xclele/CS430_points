{
 "cells": [
  {
   "cell_type": "code",
   "execution_count": 1,
   "metadata": {},
   "outputs": [],
   "source": [
    "def memorized_cut_rod(rev_lst, n):\n",
    "    r = [-1919810] * (n)\n",
    "    return memorized_cut_rod_aux(rev_lst, n, r)\n",
    "\n",
    "\n",
    "def memorized_cut_rod_aux(rev_lst, n, r):\n",
    "    if n == 0:\n",
    "        r[0] = 0\n",
    "        return 0\n",
    "\n",
    "    if r[n - 1] >= 0:\n",
    "        return r[n-1]\n",
    "\n",
    "    else:\n",
    "        q = -114514\n",
    "        for i in range(n):\n",
    "            q = max(q, rev_lst[i]+memorized_cut_rod_aux(rev_lst, n - i - 1, r))\n",
    "\n",
    "    r[n-1] = q\n",
    "    return q\n"
   ]
  },
  {
   "cell_type": "code",
   "execution_count": 2,
   "metadata": {},
   "outputs": [
    {
     "data": {
      "text/plain": [
       "10"
      ]
     },
     "execution_count": 2,
     "metadata": {},
     "output_type": "execute_result"
    }
   ],
   "source": [
    "lst = [1, 5, 8, 9, 10]\n",
    "memorized_cut_rod(lst, 4)"
   ]
  }
 ],
 "metadata": {
  "kernelspec": {
   "display_name": "Python 3.8.8 ('base')",
   "language": "python",
   "name": "python3"
  },
  "language_info": {
   "codemirror_mode": {
    "name": "ipython",
    "version": 3
   },
   "file_extension": ".py",
   "mimetype": "text/x-python",
   "name": "python",
   "nbconvert_exporter": "python",
   "pygments_lexer": "ipython3",
   "version": "3.8.8"
  },
  "orig_nbformat": 4,
  "vscode": {
   "interpreter": {
    "hash": "ad2bdc8ecc057115af97d19610ffacc2b4e99fae6737bb82f5d7fb13d2f2c186"
   }
  }
 },
 "nbformat": 4,
 "nbformat_minor": 2
}
