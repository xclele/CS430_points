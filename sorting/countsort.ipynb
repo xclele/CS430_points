{
 "cells": [
  {
   "cell_type": "markdown",
   "metadata": {},
   "source": [
    "### counting sort"
   ]
  },
  {
   "cell_type": "code",
   "execution_count": 1,
   "metadata": {},
   "outputs": [],
   "source": [
    "def getmax(lst):\n",
    "    max = lst[0]\n",
    "    for i in lst:\n",
    "        if i > max:\n",
    "            max = i\n",
    "    return max\n",
    "\n",
    "\n",
    "def countingSort(lst):\n",
    "    if len(lst) == 0:\n",
    "        return []\n",
    "    Max = getmax(lst)   # O(n)\n",
    "    countlst = [0]*(Max + 1)\n",
    "    ret = [0] * len(lst)\n",
    "\n",
    "    for i in lst:       # O(n)\n",
    "        countlst[i] += 1\n",
    "\n",
    "    if len(countlst) > 1:\n",
    "        for j in range(1,len(countlst)):    #O(n)\n",
    "            countlst[j] += countlst[j-1]\n",
    "\n",
    "    for k in range(len(lst)-1,-1,-1):   #O(n),It's a stable sort\n",
    "        l = lst[k]\n",
    "        idx = countlst[l] - 1\n",
    "        ret[idx] = l\n",
    "        countlst[l] -= 1\n",
    "\n",
    "    return ret"
   ]
  },
  {
   "cell_type": "code",
   "execution_count": 2,
   "metadata": {},
   "outputs": [
    {
     "data": {
      "text/plain": [
       "[1, 2, 3, 4, 5, 8]"
      ]
     },
     "execution_count": 2,
     "metadata": {},
     "output_type": "execute_result"
    }
   ],
   "source": [
    "countingSort([1,3,2,4,8,5])"
   ]
  }
 ],
 "metadata": {
  "kernelspec": {
   "display_name": "Python 3.8.8 ('base')",
   "language": "python",
   "name": "python3"
  },
  "language_info": {
   "codemirror_mode": {
    "name": "ipython",
    "version": 3
   },
   "file_extension": ".py",
   "mimetype": "text/x-python",
   "name": "python",
   "nbconvert_exporter": "python",
   "pygments_lexer": "ipython3",
   "version": "3.8.8"
  },
  "orig_nbformat": 4,
  "vscode": {
   "interpreter": {
    "hash": "ad2bdc8ecc057115af97d19610ffacc2b4e99fae6737bb82f5d7fb13d2f2c186"
   }
  }
 },
 "nbformat": 4,
 "nbformat_minor": 2
}
