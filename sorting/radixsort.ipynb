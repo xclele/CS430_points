{
 "cells": [
  {
   "cell_type": "code",
   "execution_count": 41,
   "metadata": {},
   "outputs": [],
   "source": [
    "def countsort(lst, mag):\n",
    "    countlst = [0] * 10\n",
    "    ret = [None] * len(lst)\n",
    "\n",
    "    for i in lst:\n",
    "        cidx = (i // mag) % 10\n",
    "        countlst[cidx] += 1\n",
    "    \n",
    "    for j in range(1,len(countlst)):\n",
    "        countlst[j] += countlst[j-1]\n",
    "\n",
    "\n",
    "    for k in range(len(lst)-1,-1,-1):\n",
    "        cidx1 = (lst[k] // mag) % 10\n",
    "        ridx = countlst[cidx1] - 1\n",
    "        ret[ridx] = lst[k]\n",
    "        countlst[cidx1] -= 1\n",
    "    return ret"
   ]
  },
  {
   "cell_type": "code",
   "execution_count": 42,
   "metadata": {},
   "outputs": [],
   "source": [
    "def getmax(lst):\n",
    "    return max(lst)\n",
    "\n",
    "def radixsort(lst):\n",
    "    maxval = getmax(lst)\n",
    "    magnitude = 1\n",
    "\n",
    "    while maxval // magnitude >= 1:\n",
    "        lst = countsort(lst,magnitude)\n",
    "        magnitude *= 10\n",
    "    return lst"
   ]
  },
  {
   "cell_type": "code",
   "execution_count": 43,
   "metadata": {},
   "outputs": [
    {
     "name": "stdout",
     "output_type": "stream",
     "text": [
      "[2, 45, 65, 66, 67, 309, 1008]\n"
     ]
    }
   ],
   "source": [
    "x = [2,45,66,65,67,309,1008]\n",
    "print(radixsort(x))"
   ]
  }
 ],
 "metadata": {
  "kernelspec": {
   "display_name": "Python 3.8.8 ('base')",
   "language": "python",
   "name": "python3"
  },
  "language_info": {
   "codemirror_mode": {
    "name": "ipython",
    "version": 3
   },
   "file_extension": ".py",
   "mimetype": "text/x-python",
   "name": "python",
   "nbconvert_exporter": "python",
   "pygments_lexer": "ipython3",
   "version": "3.8.8"
  },
  "orig_nbformat": 4,
  "vscode": {
   "interpreter": {
    "hash": "ad2bdc8ecc057115af97d19610ffacc2b4e99fae6737bb82f5d7fb13d2f2c186"
   }
  }
 },
 "nbformat": 4,
 "nbformat_minor": 2
}
