{
 "cells": [
  {
   "cell_type": "code",
   "execution_count": 18,
   "metadata": {},
   "outputs": [],
   "source": [
    "def quicksort(lst,start,stop):\n",
    "    def partition(arr,start0,stop0):\n",
    "        piv = stop0\n",
    "        pivot = arr[piv]\n",
    "        i =  start0 - 1\n",
    "        for j in range(start0,piv):\n",
    "            if arr[j] <= pivot:\n",
    "                i += 1\n",
    "                arr[j], arr[i] = arr[i], arr[j]\n",
    "        arr[i+1], arr[piv] = arr[piv], arr[i+1]\n",
    "        return i + 1\n",
    "\n",
    "    if start >= stop:\n",
    "        return\n",
    "    mid = partition(lst,start,stop)\n",
    "    quicksort(lst,start,mid - 1)\n",
    "    quicksort(lst,mid+1,stop)\n"
   ]
  },
  {
   "cell_type": "code",
   "execution_count": 19,
   "metadata": {},
   "outputs": [
    {
     "data": {
      "text/plain": [
       "[12, 43, 45, 54, 56, 76, 98]"
      ]
     },
     "execution_count": 19,
     "metadata": {},
     "output_type": "execute_result"
    }
   ],
   "source": [
    "arr = [43,56,12,76,54,98,45]\n",
    "quicksort(arr,0,len(arr)-1)\n",
    "arr"
   ]
  }
 ],
 "metadata": {
  "kernelspec": {
   "display_name": "Python 3.8.8 ('base')",
   "language": "python",
   "name": "python3"
  },
  "language_info": {
   "codemirror_mode": {
    "name": "ipython",
    "version": 3
   },
   "file_extension": ".py",
   "mimetype": "text/x-python",
   "name": "python",
   "nbconvert_exporter": "python",
   "pygments_lexer": "ipython3",
   "version": "3.8.8"
  },
  "orig_nbformat": 4,
  "vscode": {
   "interpreter": {
    "hash": "ad2bdc8ecc057115af97d19610ffacc2b4e99fae6737bb82f5d7fb13d2f2c186"
   }
  }
 },
 "nbformat": 4,
 "nbformat_minor": 2
}
