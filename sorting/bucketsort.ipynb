{
 "cells": [
  {
   "cell_type": "code",
   "execution_count": null,
   "metadata": {},
   "outputs": [],
   "source": [
    "class bucketable:\n",
    "    class Node:\n",
    "        def __init__(self,val,next=None):\n",
    "            self.val = val\n",
    "            self.next = next\n",
    "    def __init__(self,size):\n",
    "        self.data = [None] * size\n",
    "\n",
    "    def add(self,val,idx):\n",
    "        bucket = self.data[idx]\n",
    "        if not bucket:\n",
    "            self.data[idx] = bucketable.Node(val)\n",
    "            return\n",
    "\n",
    "        while bucket.next:\n",
    "            bucket = bucket.next\n",
    "        bucket.next = bucketable.Node(val)\n",
    "\n",
    "    def __iter__(self):\n",
    "        for i in self.data:\n",
    "            if i:\n",
    "                b = i\n",
    "                while b.next:\n",
    "                    yield b.val\n",
    "                    b = b.next\n",
    "                yield b.val"
   ]
  },
  {
   "cell_type": "code",
   "execution_count": 1,
   "metadata": {},
   "outputs": [],
   "source": [
    "def getmax(lst):\n",
    "    max = lst[0]\n",
    "    for i in range(1,len(lst)):\n",
    "        if lst[i] > max:\n",
    "            max = lst[i]\n",
    "    return max\n",
    "\n",
    "def bucketsort(lst):    #0.1\n",
    "    if len(lst) == 0:\n",
    "        return [0]\n",
    "    \n",
    "    size = int(10*(getmax(lst)+1))\n",
    "    bkt = bucketable(size)\n",
    "\n",
    "    for i in lst:\n",
    "        idx = int(i*10)\n",
    "        bkt.add(i,idx)\n",
    "        \n",
    "        "
   ]
  }
 ],
 "metadata": {
  "kernelspec": {
   "display_name": "Python 3.8.8 ('base')",
   "language": "python",
   "name": "python3"
  },
  "language_info": {
   "codemirror_mode": {
    "name": "ipython",
    "version": 3
   },
   "file_extension": ".py",
   "mimetype": "text/x-python",
   "name": "python",
   "nbconvert_exporter": "python",
   "pygments_lexer": "ipython3",
   "version": "3.8.8"
  },
  "orig_nbformat": 4,
  "vscode": {
   "interpreter": {
    "hash": "ad2bdc8ecc057115af97d19610ffacc2b4e99fae6737bb82f5d7fb13d2f2c186"
   }
  }
 },
 "nbformat": 4,
 "nbformat_minor": 2
}
