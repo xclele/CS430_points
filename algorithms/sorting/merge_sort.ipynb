{
 "cells": [
  {
   "cell_type": "markdown",
   "metadata": {},
   "source": [
    "# Merge sort\n",
    "### divide and conquer"
   ]
  },
  {
   "cell_type": "code",
   "execution_count": 9,
   "metadata": {},
   "outputs": [],
   "source": [
    "def merge(lst1,lst2):\n",
    "    ret = []\n",
    "    idx1 = idx2 = 0\n",
    "    while idx1 < len(lst1) or idx2 <len(lst2):\n",
    "        if idx1 == len(lst1) or (idx2 < len(lst2) and lst1[idx1]>lst2[idx2]):\n",
    "            ret.append(lst2[idx2])\n",
    "            idx2 += 1\n",
    "        else:\n",
    "            ret.append(lst1[idx1])\n",
    "            idx1 += 1\n",
    "    return ret"
   ]
  },
  {
   "cell_type": "code",
   "execution_count": 4,
   "metadata": {},
   "outputs": [],
   "source": [
    "def merge_sort(lst):\n",
    "    if len(lst) == 0:\n",
    "        return []\n",
    "    elif len(lst) == 1:\n",
    "        return lst\n",
    "    else:\n",
    "        mid = len(lst) // 2\n",
    "        return merge(merge_sort(lst[:mid]),merge_sort(lst[mid:]))"
   ]
  },
  {
   "cell_type": "code",
   "execution_count": 16,
   "metadata": {},
   "outputs": [
    {
     "data": {
      "text/plain": [
       "[1, 2, 3, 4, 5]"
      ]
     },
     "execution_count": 16,
     "metadata": {},
     "output_type": "execute_result"
    }
   ],
   "source": [
    "merge_sort([1,3,5,2,4])"
   ]
  }
 ],
 "metadata": {
  "kernelspec": {
   "display_name": "Python 3.8.8 ('base')",
   "language": "python",
   "name": "python3"
  },
  "language_info": {
   "codemirror_mode": {
    "name": "ipython",
    "version": 3
   },
   "file_extension": ".py",
   "mimetype": "text/x-python",
   "name": "python",
   "nbconvert_exporter": "python",
   "pygments_lexer": "ipython3",
   "version": "3.8.8"
  },
  "orig_nbformat": 4,
  "vscode": {
   "interpreter": {
    "hash": "ad2bdc8ecc057115af97d19610ffacc2b4e99fae6737bb82f5d7fb13d2f2c186"
   }
  }
 },
 "nbformat": 4,
 "nbformat_minor": 2
}
