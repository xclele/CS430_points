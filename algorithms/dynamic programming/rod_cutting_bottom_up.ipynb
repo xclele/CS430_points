{
 "cells": [
  {
   "cell_type": "code",
   "execution_count": 87,
   "metadata": {},
   "outputs": [],
   "source": [
    "def extended_bottom_up_rod_cutting(rev_lst, n):\n",
    "    r = [-1919810] * (n + 1)\n",
    "    s = [0] * (n + 1)  # stores the length of the first piece of each best solution\n",
    "    r[0] = 0\n",
    "    \n",
    "    rev_lst_copy = [0]\n",
    "\n",
    "    rev_lst_copy.extend(rev_lst)    # prepend 0\n",
    "\n",
    "    for i in range(1,n+1):\n",
    "        q = -114514\n",
    "        for j in range(1,i+1):\n",
    "            if q < rev_lst_copy[j]+r[i - j]:\n",
    "                q = rev_lst_copy[j]+r[i - j]\n",
    "                s[i] = j\n",
    "        if i != 0:\n",
    "            r[i] = q\n",
    "    \n",
    "    return (r,s)"
   ]
  },
  {
   "cell_type": "code",
   "execution_count": 88,
   "metadata": {},
   "outputs": [
    {
     "data": {
      "text/plain": [
       "([0, 1, 5, 8, 10, 13], [0, 1, 2, 3, 2, 2])"
      ]
     },
     "execution_count": 88,
     "metadata": {},
     "output_type": "execute_result"
    }
   ],
   "source": [
    "lst = [1, 5, 8, 9, 10,]\n",
    "extended_bottom_up_rod_cutting(lst, 5)"
   ]
  },
  {
   "cell_type": "code",
   "execution_count": 89,
   "metadata": {},
   "outputs": [],
   "source": [
    "# print strategy\n",
    "def print_solution(rev_lst,n):\n",
    "    (r,s) = extended_bottom_up_rod_cutting(rev_lst, n)\n",
    "\n",
    "    while n > 0:\n",
    "        print(s[n])\n",
    "        n -= s[n]"
   ]
  },
  {
   "cell_type": "code",
   "execution_count": 90,
   "metadata": {},
   "outputs": [
    {
     "name": "stdout",
     "output_type": "stream",
     "text": [
      "2\n",
      "3\n"
     ]
    }
   ],
   "source": [
    "lst = [1, 5, 8, 9, 10,]\n",
    "print_solution(lst, 5)"
   ]
  }
 ],
 "metadata": {
  "kernelspec": {
   "display_name": "Python 3.8.8 ('base')",
   "language": "python",
   "name": "python3"
  },
  "language_info": {
   "codemirror_mode": {
    "name": "ipython",
    "version": 3
   },
   "file_extension": ".py",
   "mimetype": "text/x-python",
   "name": "python",
   "nbconvert_exporter": "python",
   "pygments_lexer": "ipython3",
   "version": "3.8.8"
  },
  "orig_nbformat": 4,
  "vscode": {
   "interpreter": {
    "hash": "ad2bdc8ecc057115af97d19610ffacc2b4e99fae6737bb82f5d7fb13d2f2c186"
   }
  }
 },
 "nbformat": 4,
 "nbformat_minor": 2
}
